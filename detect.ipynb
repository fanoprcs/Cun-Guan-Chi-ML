{
 "cells": [
  {
   "cell_type": "code",
   "execution_count": 1,
   "id": "cf5c7dac-0b51-422c-8b0d-700fb2bfb6b7",
   "metadata": {},
   "outputs": [
    {
     "name": "stdout",
     "output_type": "stream",
     "text": [
      "load success\n"
     ]
    }
   ],
   "source": [
    "category = 31 #38 with label, 31 with labelByHand\n",
    "from keras.models import Sequential\n",
    "from keras.layers import Dense, Flatten, Dropout\n",
    "from keras.layers import Conv2D, MaxPooling2D\n",
    "from sklearn.model_selection import train_test_split\n",
    "model = Sequential()\n",
    "model.add(Conv2D(filters = 32, kernel_size = (3,3), input_shape = (50, 50, 3), activation = 'relu'))\n",
    "model.add(Conv2D(filters = 32, kernel_size = (3,3), activation = 'relu'))\n",
    "model.add(MaxPooling2D(pool_size = (2, 2)))\n",
    "model.add(Dropout(0.2))\n",
    "model.add(Conv2D(filters = 64, kernel_size = (3,3), activation = 'relu'))\n",
    "model.add(Conv2D(filters = 64, kernel_size = (3,3), activation = 'relu'))\n",
    "model.add(MaxPooling2D(pool_size = (2, 2)))\n",
    "model.add(Dropout(0.2))\n",
    "model.add(Conv2D(filters = 128, kernel_size = (3,3), activation = 'relu'))\n",
    "model.add(Conv2D(filters = 128, kernel_size = (3,3), activation = 'relu'))\n",
    "model.add(MaxPooling2D(pool_size = (2, 2)))\n",
    "model.add(Dropout(0.2))\n",
    "model.add(Flatten())\n",
    "model.add(Dense(512, activation = 'relu'))\n",
    "model.add(Dropout(0.2))\n",
    "model.add(Dense(512, activation = 'relu'))\n",
    "model.add(Dropout(0.2))\n",
    "model.add(Dense(256, activation = 'relu'))\n",
    "model.add(Dropout(0.2))\n",
    "model.add(Dense(category, activation = 'sigmoid'))\n",
    "model.compile(loss = 'categorical_crossentropy', optimizer = 'adam', metrics = ['acc'])\n",
    "try:\n",
    "    model.load_weights('model/h5/model_2.h5')\n",
    "    print(\"load success\")\n",
    "except:\n",
    "    print(\"load failed\")"
   ]
  },
  {
   "cell_type": "code",
   "execution_count": 1,
   "id": "e2f037b8-3d8d-4cab-b52b-bac27ccd4e94",
   "metadata": {},
   "outputs": [
    {
     "data": {
      "text/plain": [
       "1"
      ]
     },
     "execution_count": 1,
     "metadata": {},
     "output_type": "execute_result"
    }
   ],
   "source": [
    "import os, cv2\n",
    "import numpy as np\n",
    "from PIL import Image\n",
    "import matplotlib.pyplot as plt\n",
    "from keras.preprocessing.image import img_to_array\n",
    "test_data = []\n",
    "path = 'test/photo/2.PNG'\n",
    "img = Image.open(path)\n",
    "test_data.append(cv2.resize(np.array(img), (50, 50)))\n",
    "test_data = np.array(test_data)/255 \n",
    "len(test_data)"
   ]
  },
  {
   "cell_type": "code",
   "execution_count": 16,
   "id": "4673b6cc-a6a3-4b60-809f-83d6f2dcc46c",
   "metadata": {},
   "outputs": [
    {
     "name": "stdout",
     "output_type": "stream",
     "text": [
      "(20, 50, 50, 3)\n"
     ]
    },
    {
     "data": {
      "text/plain": [
       "20"
      ]
     },
     "execution_count": 16,
     "metadata": {},
     "output_type": "execute_result"
    }
   ],
   "source": [
    "import cv2, os \n",
    "import numpy as np \n",
    "from PIL import Image \n",
    "import matplotlib.pyplot as plt \n",
    "from keras.preprocessing.image import img_to_array \n",
    "cap = cv2.VideoCapture('test/video/1.mov') \n",
    "count = 0 \n",
    "test_data = []\n",
    "while True:\n",
    "    ret, img = cap.read() \n",
    "    if ret: \n",
    "        count += 1 \n",
    "        tmp = cv2.resize(img, (50, 50)) \n",
    "        test_data.append(img_to_array(tmp)) \n",
    "        if count >= 20: \n",
    "            break \n",
    "test_data = np.array(test_data)/255\n",
    "print(test_data.shape)\n",
    "len(test_data)"
   ]
  },
  {
   "cell_type": "code",
   "execution_count": 3,
   "id": "f3269a4f-f4cc-4a7f-ad21-0de500215539",
   "metadata": {},
   "outputs": [],
   "source": [
    "pred = model.predict(test_data)\n",
    "pred = np.argmax(pred, axis = -1)\n",
    "print(pred)"
   ]
  },
  {
   "cell_type": "code",
   "execution_count": 2,
   "id": "707a3a0d-2429-491e-8e11-3165cc5acf0e",
   "metadata": {},
   "outputs": [
    {
     "name": "stdout",
     "output_type": "stream",
     "text": [
      "(3, 3) (3, 6) (3, 8)\n"
     ]
    }
   ],
   "source": [
    "from function.converse_label import getPointByLabel\n",
    "a, b, c = getPointByLabel(2, 'labelByHand.csv')\n",
    "print(a,b,c)"
   ]
  },
  {
   "cell_type": "code",
   "execution_count": 3,
   "id": "fa6626a1-e0d9-4827-89d1-5c0afadb9f48",
   "metadata": {},
   "outputs": [
    {
     "name": "stdout",
     "output_type": "stream",
     "text": [
      "\n",
      "hand type: right hand\n",
      "請依序點擊\"碗關節\"及能使連線平行於手臂之\"另一點\"及, 並根據劃出的線的延伸\"腕旁點\"坐標：\n",
      "腕橫紋 (434, 622) 腕旁點 (514, 612)\n"
     ]
    }
   ],
   "source": [
    "from function.show import show_point # may occur mediapipe and canny won't have good performance\n",
    "from function.showByHand import show_pointByhand # need to tag 2 key point\n",
    "from function.no_media_showByHand import no_media_show_pointByhand #need to enter hand_type\n",
    "copy = img\n",
    "#show_point(copy, a, b, c, grid_number = 5, const_rate = 8, width_rate = 2, whether_grid = True,show_ori = True, whether_show = True, lower_bound = 30, upper_bound = 170)\n",
    "show_pointByhand(cv2.cvtColor(np.array(copy), cv2.COLOR_BGR2RGB), a, b, c, grid_number = 5, whether_grid = True)\n",
    "#no_media_show_pointByhand(copy, a, b, c, grid_number = 5, whether_grid = True, hand_type = 'left')"
   ]
  },
  {
   "cell_type": "code",
   "execution_count": null,
   "id": "ee873aeb-495c-489c-9a49-622e709933ac",
   "metadata": {},
   "outputs": [],
   "source": []
  }
 ],
 "metadata": {
  "kernelspec": {
   "display_name": "Python 3 (ipykernel)",
   "language": "python",
   "name": "python3"
  },
  "language_info": {
   "codemirror_mode": {
    "name": "ipython",
    "version": 3
   },
   "file_extension": ".py",
   "mimetype": "text/x-python",
   "name": "python",
   "nbconvert_exporter": "python",
   "pygments_lexer": "ipython3",
   "version": "3.9.7"
  }
 },
 "nbformat": 4,
 "nbformat_minor": 5
}
