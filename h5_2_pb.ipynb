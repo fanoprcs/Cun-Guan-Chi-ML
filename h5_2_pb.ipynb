{
 "cells": [
  {
   "cell_type": "code",
   "execution_count": 13,
   "id": "e4ee4d82-55da-40e6-a10f-2add05b643f4",
   "metadata": {},
   "outputs": [
    {
     "name": "stdout",
     "output_type": "stream",
     "text": [
      "WARNING:tensorflow:AutoGraph could not transform <function trace_model_call.<locals>._wrapped_model at 0x00000241B3EDBCA0> and will run it as-is.\n",
      "Please report this to the TensorFlow team. When filing the bug, set the verbosity to 10 (on Linux, `export AUTOGRAPH_VERBOSITY=10`) and attach the full output.\n",
      "Cause: closure mismatch, requested ('model',), but source function had ()\n",
      "To silence this warning, decorate the function with @tf.autograph.experimental.do_not_convert\n",
      "WARNING: AutoGraph could not transform <function trace_model_call.<locals>._wrapped_model at 0x00000241B3EDBCA0> and will run it as-is.\n",
      "Please report this to the TensorFlow team. When filing the bug, set the verbosity to 10 (on Linux, `export AUTOGRAPH_VERBOSITY=10`) and attach the full output.\n",
      "Cause: closure mismatch, requested ('model',), but source function had ()\n",
      "To silence this warning, decorate the function with @tf.autograph.experimental.do_not_convert\n",
      "INFO:tensorflow:Assets written to: model\\assets\n"
     ]
    }
   ],
   "source": [
    "from tensorflow.keras import models\n",
    "\n",
    "models.save_model(models.load_model('model/h5/model_2.h5'), 'model')"
   ]
  },
  {
   "cell_type": "code",
   "execution_count": null,
   "id": "a5215231-de65-4e79-aee6-2964728c1e62",
   "metadata": {},
   "outputs": [],
   "source": [
    "def frozen_graph(h5_file_path, pb_model_path):\n",
    "    \"\"\"\n",
    "    冻结模型，可以将训练好的.h5模型文件转成.pb文件\n",
    "    :param h5_file_path: h5模型文件路径\n",
    "    :param pb_model_path: pb模型文件保存路径\n",
    "    :return:\n",
    "    \"\"\"\n",
    "    # 加载模型，如有自定义层请参考方法二末尾处如何加载\n",
    "    model = tf.keras.models.load_model(h5_file_path, compile=False)\n",
    "    model.summary()\n",
    "\n",
    "    full_model = tf.function(lambda input_1: model(input_1))\n",
    "    full_model = full_model.get_concrete_function(tf.TensorSpec(model.inputs[0].shape, model.inputs[0].dtype))\n",
    "\n",
    "    # Get frozen ConcreteFunction\n",
    "    frozen_func = convert_variables_to_constants_v2(full_model)\n",
    "    frozen_func.graph.as_graph_def()\n",
    "\n",
    "    layers = [op.name for op in frozen_func.graph.get_operations()]\n",
    "    # print(\"-\" * 50)\n",
    "    # print(\"Frozen model layers: \")\n",
    "    # for layer in layers:\n",
    "    #     print(layer)\n",
    "\n",
    "    # print(\"-\" * 50)\n",
    "    # print(\"Frozen model inputs: \")\n",
    "    # print(frozen_func.inputs)\n",
    "    # print(\"Frozen model outputs: \")\n",
    "    # print(frozen_func.outputs)\n",
    "\n",
    "    # Save frozen graph from frozen ConcreteFunction to hard drive\n",
    "    tf.io.write_graph(graph_or_graph_def=frozen_func.graph,\n",
    "                      logdir=pb_model_path,\n",
    "                      name=\"model_name.pb\",\n",
    "                      as_text=False)\n",
    "    print('model has been saved')\n",
    "frozen_graph()"
   ]
  }
 ],
 "metadata": {
  "kernelspec": {
   "display_name": "Python 3 (ipykernel)",
   "language": "python",
   "name": "python3"
  },
  "language_info": {
   "codemirror_mode": {
    "name": "ipython",
    "version": 3
   },
   "file_extension": ".py",
   "mimetype": "text/x-python",
   "name": "python",
   "nbconvert_exporter": "python",
   "pygments_lexer": "ipython3",
   "version": "3.9.7"
  }
 },
 "nbformat": 4,
 "nbformat_minor": 5
}
